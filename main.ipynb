{
 "cells": [
  {
   "cell_type": "code",
   "execution_count": 1,
   "source": [
    "import numpy as np\n",
    "import matplotlib.pyplot as plt"
   ],
   "outputs": [],
   "metadata": {}
  },
  {
   "cell_type": "code",
   "execution_count": 2,
   "source": [
    "# Create a Recursive function\n",
    "def collatz_conjecture(number):\n",
    "\n",
    "    # Base case for recurssion\n",
    "    if number == 1:\n",
    "        return 1\n",
    "\n",
    "    # Odd Case\n",
    "    if number % 2 != 0:\n",
    "        return collatz_conjecture((3 * number) + 1)\n",
    "\n",
    "    # Even Case\n",
    "    else:\n",
    "        return collatz_conjecture(number / 2)"
   ],
   "outputs": [],
   "metadata": {}
  },
  {
   "cell_type": "code",
   "execution_count": 3,
   "source": [
    "number = 2**997\n",
    "print(f\"Number to execute the conjecture on: {number}\\n\")\n",
    "print(f\"Output: {collatz_conjecture(number)}\")"
   ],
   "outputs": [
    {
     "output_type": "stream",
     "name": "stdout",
     "text": [
      "Number to execute the conjecture on: 1339385758982834151185531311325002263201756014631917009304687985462938813906170153116497973519619822659493341146941433531483931607115392554498072196837321850491820971853028873177634325632796392734744272769130809372947742658424845944895692993259632864321399559710817770957553728956578048354650708508672\n",
      "\n",
      "Output: 1\n"
     ]
    }
   ],
   "metadata": {}
  },
  {
   "cell_type": "code",
   "execution_count": null,
   "source": [],
   "outputs": [],
   "metadata": {}
  }
 ],
 "metadata": {
  "orig_nbformat": 4,
  "language_info": {
   "name": "python",
   "version": "3.8.11",
   "mimetype": "text/x-python",
   "codemirror_mode": {
    "name": "ipython",
    "version": 3
   },
   "pygments_lexer": "ipython3",
   "nbconvert_exporter": "python",
   "file_extension": ".py"
  },
  "kernelspec": {
   "name": "python3",
   "display_name": "Python 3.8.11 64-bit ('base': conda)"
  },
  "interpreter": {
   "hash": "cbc0418aa03ea982be8c820a4d1fad767ad72efb8e4886e9174d7024cb5da8bf"
  }
 },
 "nbformat": 4,
 "nbformat_minor": 2
}