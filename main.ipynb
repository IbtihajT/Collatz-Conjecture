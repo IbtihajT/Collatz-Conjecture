{
 "cells": [
  {
   "cell_type": "code",
   "execution_count": 1,
   "metadata": {},
   "outputs": [],
   "source": [
    "import numpy as np\n",
    "import matplotlib.pyplot as plt"
   ]
  },
  {
   "cell_type": "code",
   "execution_count": 2,
   "metadata": {},
   "outputs": [],
   "source": [
    "# Create a Recursive function\n",
    "def collatz_conjecture(number):\n",
    "\n",
    "    # Base case for recurssion\n",
    "    if number == 1:\n",
    "        return 1\n",
    "\n",
    "    # Odd Case\n",
    "    if number % 2 != 0:\n",
    "        return collatz_conjecture((3 * number) + 1)\n",
    "\n",
    "    # Even Case\n",
    "    else:\n",
    "        return collatz_conjecture(number / 2)"
   ]
  },
  {
   "cell_type": "code",
   "execution_count": 3,
   "metadata": {},
   "outputs": [
    {
     "name": "stdout",
     "output_type": "stream",
     "text": [
      "Number to execute the conjecture on: 1339385758982834151185531311325002263201756014631917009304687985462938813906170153116497973519619822659493341146941433531483931607115392554498072196837321850491820971853028873177634325632796392734744272769130809372947742658424845944895692993259632864321399559710817770957553728956578048354650708508672\n",
      "\n",
      "Output: 1\n"
     ]
    }
   ],
   "source": [
    "number = 2**997\n",
    "print(f\"Number to execute the conjecture on: {number}\\n\")\n",
    "print(f\"Output: {collatz_conjecture(number)}\")"
   ]
  },
  {
   "cell_type": "code",
   "execution_count": null,
   "metadata": {},
   "outputs": [],
   "source": []
  }
 ],
 "metadata": {
  "interpreter": {
   "hash": "d3b750e6514853989c24716d56c3064826e6f5c95515f4f1d529cb73c6300f85"
  },
  "kernelspec": {
   "display_name": "Python 3.8.11 64-bit ('base': conda)",
   "name": "python3"
  },
  "language_info": {
   "codemirror_mode": {
    "name": "ipython",
    "version": 3
   },
   "file_extension": ".py",
   "mimetype": "text/x-python",
   "name": "python",
   "nbconvert_exporter": "python",
   "pygments_lexer": "ipython3",
   "version": "3.8.11"
  },
  "orig_nbformat": 4
 },
 "nbformat": 4,
 "nbformat_minor": 2
}
